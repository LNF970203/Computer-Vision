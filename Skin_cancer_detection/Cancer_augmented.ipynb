{
 "cells": [
  {
   "cell_type": "code",
   "execution_count": 5,
   "id": "c45d8bb9",
   "metadata": {},
   "outputs": [],
   "source": [
    "import numpy as np \n",
    "import pandas as pd\n",
    "import matplotlib.pyplot as plt\n",
    "import os\n",
    "import tensorflow as tf\n",
    "from tensorflow import keras\n",
    "from tensorflow.keras.preprocessing.image import ImageDataGenerator\n",
    "from tensorflow.keras import layers, models, optimizers\n",
    "from tensorflow.keras import backend as k\n",
    "from tensorflow.keras.applications import VGG16\n",
    "from tensorflow.keras.optimizers import Adam"
   ]
  },
  {
   "cell_type": "code",
   "execution_count": 6,
   "id": "5773566e",
   "metadata": {},
   "outputs": [],
   "source": [
    "#data augmentation\n",
    "import imgaug as ia\n",
    "import imgaug.augmenters as iaa\n",
    "from PIL import Image"
   ]
  },
  {
   "cell_type": "code",
   "execution_count": 7,
   "id": "42a1ceed",
   "metadata": {},
   "outputs": [],
   "source": [
    "ia.seed(0)\n",
    "\n",
    "seq1=iaa.Sequential([\n",
    "    iaa.Fliplr(1.0),\n",
    "    iaa.Flipud(0.5)\n",
    "])\n",
    "\n",
    "seq2=iaa.Sequential([\n",
    "    iaa.Affine(rotate=(-60,60)),\n",
    "    iaa.Flipud(0.5)\n",
    "])\n",
    "seq3=iaa.PerspectiveTransform(scale=(0.01,0.15))\n",
    "seq4=iaa.Affine(scale=(0.5,1.5))\n",
    "seq5=iaa.LinearContrast((0.4,1.6))\n",
    "seq6=iaa.Sequential([\n",
    "    iaa.Flipud(1.0),\n",
    "    iaa.AllChannelsHistogramEqualization()\n",
    "])\n",
    "seq7=iaa.LogContrast(gain=(0.6,1.4))"
   ]
  },
  {
   "cell_type": "code",
   "execution_count": 8,
   "id": "1e253bc6",
   "metadata": {},
   "outputs": [
    {
     "name": "stdout",
     "output_type": "stream",
     "text": [
      "456\n"
     ]
    }
   ],
   "source": [
    "# augmenting classes\n",
    "# actinic keratosis\n",
    "count=0\n",
    "# for i in os.listdir('C:\\\\Lachin\\\\DataSets\\\\cancer\\\\Train\\\\actinic keratosis'):\n",
    "#     img=Image.open(os.path.join('C:\\\\Lachin\\\\DataSets\\\\cancer\\\\Train\\\\actinic keratosis',i))\n",
    "#     img=np.array(img)\n",
    "    \n",
    "#     img1=seq3(image=img)\n",
    "#     img1=Image.fromarray(np.uint8(img1)).convert('RGB')\n",
    "#     img1.save(f'C:\\\\Lachin\\\\DataSets\\\\cancer\\\\Train\\\\actinic keratosis\\\\img_{count}.jpg')\n",
    "#     count+=1\n",
    "    \n",
    "#     img2=seq5(image=img)\n",
    "#     img2=Image.fromarray(np.uint8(img2)).convert('RGB')\n",
    "#     img2.save(f'C:\\\\Lachin\\\\DataSets\\\\cancer\\\\Train\\\\actinic keratosis\\\\img_{count}.jpg')\n",
    "#     count+=1\n",
    "    \n",
    "#     img3=seq6(image=img)\n",
    "#     img3=Image.fromarray(np.uint8(img2)).convert('RGB')\n",
    "#     img3.save(f'C:\\\\Lachin\\\\DataSets\\\\cancer\\\\Train\\\\actinic keratosis\\\\img_{count}.jpg')\n",
    "#     count+=1\n",
    "    \n",
    "    \n",
    "# print(len(os.listdir('C:\\\\Lachin\\\\DataSets\\\\cancer\\\\Train\\\\actinic keratosis')))\n",
    "    \n",
    "        "
   ]
  },
  {
   "cell_type": "code",
   "execution_count": 61,
   "id": "5032e213",
   "metadata": {},
   "outputs": [
    {
     "name": "stdout",
     "output_type": "stream",
     "text": [
      "1128\n"
     ]
    }
   ],
   "source": [
    "#basal cell carcinoma\n",
    "# count=0\n",
    "# for i in os.listdir('C:\\\\Lachin\\\\DataSets\\\\cancer\\\\Train\\\\basal cell carcinoma'):\n",
    "#     img=Image.open(os.path.join('C:\\\\Lachin\\\\DataSets\\\\cancer\\\\Train\\\\basal cell carcinoma',i))\n",
    "#     img=np.array(img)\n",
    "    \n",
    "#     img1=seq6(image=img)\n",
    "#     img1=Image.fromarray(np.uint8(img1)).convert('RGB')\n",
    "#     img1.save(f'C:\\\\Lachin\\\\DataSets\\\\cancer\\\\Train\\\\basal cell carcinoma\\\\img_{count}.jpg')\n",
    "#     count+=1\n",
    "    \n",
    "    #img2=seq4(image=img)\n",
    "    #img2=Image.fromarray(np.uint8(img2)).convert('RGB')\n",
    "    #img2.save(f'C:\\\\Lachin\\\\DataSets\\\\cancer\\\\Train\\\\basal cell carcinoma\\\\img_{count}.jpg')\n",
    "    #count+=1\n",
    "    \n",
    "#     img3=seq1(image=img)\n",
    "#     img3=Image.fromarray(np.uint8(img2)).convert('RGB')\n",
    "#     img3.save(f'C:\\\\Lachin\\\\DataSets\\\\cancer\\\\Train\\\\basal cell carcinoma\\\\img_{count}.jpg')\n",
    "#     count+=1\n",
    "# print(len(os.listdir('C:\\\\Lachin\\\\DataSets\\\\cancer\\\\Train\\\\basal cell carcinoma')))\n",
    "    "
   ]
  },
  {
   "cell_type": "code",
   "execution_count": 7,
   "id": "6c8e71cb",
   "metadata": {},
   "outputs": [
    {
     "name": "stdout",
     "output_type": "stream",
     "text": [
      "380\n"
     ]
    }
   ],
   "source": [
    "#dermatofibroma\n",
    "# count=0\n",
    "# for i in os.listdir('C:\\\\Lachin\\\\DataSets\\\\cancer\\\\Train\\\\dermatofibroma'):\n",
    "#     img=Image.open(os.path.join('C:\\\\Lachin\\\\DataSets\\\\cancer\\\\Train\\\\dermatofibroma',i))\n",
    "#     img=np.array(img)\n",
    "    \n",
    "#     img1=seq3(image=img)\n",
    "#     img1=Image.fromarray(np.uint8(img1)).convert('RGB')\n",
    "#     img1.save(f'C:\\\\Lachin\\\\DataSets\\\\cancer\\\\Train\\\\dermatofibroma\\\\img_{count}.jpg')\n",
    "#     count+=1\n",
    "    \n",
    "#     img2=seq4(image=img)\n",
    "#     img2=Image.fromarray(np.uint8(img2)).convert('RGB')\n",
    "#     img2.save(f'C:\\\\Lachin\\\\DataSets\\\\cancer\\\\Train\\\\dermatofibroma\\\\img_{count}.jpg')\n",
    "#     count+=1\n",
    "    \n",
    "#     img3=seq5(image=img)\n",
    "#     img3=Image.fromarray(np.uint8(img2)).convert('RGB')\n",
    "#     img3.save(f'C:\\\\Lachin\\\\DataSets\\\\cancer\\\\Train\\\\dermatofibroma\\\\img_{count}.jpg')\n",
    "#     count+=1\n",
    "    \n",
    "# print(len(os.listdir('C:\\\\Lachin\\\\DataSets\\\\cancer\\\\Train\\\\dermatofibroma')))"
   ]
  },
  {
   "cell_type": "code",
   "execution_count": 63,
   "id": "181b8172",
   "metadata": {},
   "outputs": [
    {
     "name": "stdout",
     "output_type": "stream",
     "text": [
      "1314\n"
     ]
    }
   ],
   "source": [
    "#melanoma\n",
    "# count=0\n",
    "# for i in os.listdir('C:\\\\Lachin\\\\DataSets\\\\cancer\\\\Train\\\\melanoma'):\n",
    "#     img=Image.open(os.path.join('C:\\\\Lachin\\\\DataSets\\\\cancer\\\\Train\\\\melanoma',i))\n",
    "#     img=np.array(img)\n",
    "    \n",
    "#     #img1=seq1(image=img)\n",
    "#     #img1=Image.fromarray(np.uint8(img1)).convert('RGB')\n",
    "#     #img1.save(f'C:\\\\Lachin\\\\DataSets\\\\cancer\\\\Train\\\\melanoma\\\\img_{count}.jpg')\n",
    "#     #count+=1\n",
    "    \n",
    "#     img2=seq7(image=img)\n",
    "#     img2=Image.fromarray(np.uint8(img2)).convert('RGB')\n",
    "#     img2.save(f'C:\\\\Lachin\\\\DataSets\\\\cancer\\\\Train\\\\melanoma\\\\img_{count}.jpg')\n",
    "#     count+=1\n",
    "    \n",
    "#     img3=seq4(image=img)\n",
    "#     img3=Image.fromarray(np.uint8(img2)).convert('RGB')\n",
    "#     img3.save(f'C:\\\\Lachin\\\\DataSets\\\\cancer\\\\Train\\\\melanoma\\\\img_{count}.jpg')\n",
    "#     count+=1\n",
    "# print(len(os.listdir('C:\\\\Lachin\\\\DataSets\\\\cancer\\\\Train\\\\melanoma')))"
   ]
  },
  {
   "cell_type": "code",
   "execution_count": 64,
   "id": "36fcd2d1",
   "metadata": {},
   "outputs": [
    {
     "name": "stdout",
     "output_type": "stream",
     "text": [
      "1071\n"
     ]
    }
   ],
   "source": [
    "#nevus\n",
    "# count=0\n",
    "# for i in os.listdir('C:\\\\Lachin\\\\DataSets\\\\cancer\\\\Train\\\\nevus'):\n",
    "#     img=Image.open(os.path.join('C:\\\\Lachin\\\\DataSets\\\\cancer\\\\Train\\\\nevus',i))\n",
    "#     img=np.array(img)\n",
    "    \n",
    "#     img1=seq2(image=img)\n",
    "#     img1=Image.fromarray(np.uint8(img1)).convert('RGB')\n",
    "#     img1.save(f'C:\\\\Lachin\\\\DataSets\\\\cancer\\\\Train\\\\nevus\\\\img_{count}.jpg')\n",
    "#     count+=1\n",
    "    \n",
    "#     #img2=seq4(image=img)\n",
    "#     #img2=Image.fromarray(np.uint8(img2)).convert('RGB')\n",
    "#     #img2.save(f'C:\\\\Lachin\\\\DataSets\\\\cancer\\\\Train\\\\nevus\\\\img_{count}.jpg')\n",
    "#     #count+=1\n",
    "    \n",
    "#     img3=seq6(image=img)\n",
    "#     img3=Image.fromarray(np.uint8(img2)).convert('RGB')\n",
    "#     img3.save(f'C:\\\\Lachin\\\\DataSets\\\\cancer\\\\Train\\\\nevus\\\\img_{count}.jpg')\n",
    "#     count+=1\n",
    "# print(len(os.listdir('C:\\\\Lachin\\\\DataSets\\\\cancer\\\\Train\\\\nevus')))"
   ]
  },
  {
   "cell_type": "code",
   "execution_count": 65,
   "id": "3ac5ba6d",
   "metadata": {},
   "outputs": [
    {
     "name": "stdout",
     "output_type": "stream",
     "text": [
      "1386\n"
     ]
    }
   ],
   "source": [
    "#pigmented benign keratosis\n",
    "# count=0\n",
    "# for i in os.listdir('C:\\\\Lachin\\\\DataSets\\\\cancer\\\\Train\\\\pigmented benign keratosis'):\n",
    "#     img=Image.open(os.path.join('C:\\\\Lachin\\\\DataSets\\\\cancer\\\\Train\\\\pigmented benign keratosis',i))\n",
    "#     img=np.array(img)\n",
    "    \n",
    "#     img1=seq3(image=img)\n",
    "#     img1=Image.fromarray(np.uint8(img1)).convert('RGB')\n",
    "#     img1.save(f'C:\\\\Lachin\\\\DataSets\\\\cancer\\\\Train\\\\pigmented benign keratosis\\\\img_{count}.jpg')\n",
    "#     count+=1\n",
    "    \n",
    "#     img2=seq1(image=img)\n",
    "#     img2=Image.fromarray(np.uint8(img2)).convert('RGB')\n",
    "#     img2.save(f'C:\\\\Lachin\\\\DataSets\\\\cancer\\\\Train\\\\pigmented benign keratosis\\\\img_{count}.jpg')\n",
    "#     count+=1\n",
    "    \n",
    "#     #img3=seq7(image=img)\n",
    "#     #img3=Image.fromarray(np.uint8(img2)).convert('RGB')\n",
    "#     #img3.save(f'C:\\\\Lachin\\\\DataSets\\\\cancer\\\\Train\\\\pigmented benign keratosis\\\\img_{count}.jpg')\n",
    "#     count+=1\n",
    "# print(len(os.listdir('C:\\\\Lachin\\\\DataSets\\\\cancer\\\\Train\\\\pigmented benign keratosis')))"
   ]
  },
  {
   "cell_type": "code",
   "execution_count": 13,
   "id": "e15502e1",
   "metadata": {},
   "outputs": [
    {
     "name": "stdout",
     "output_type": "stream",
     "text": [
      "385\n"
     ]
    }
   ],
   "source": [
    "#seborrheic keratosis\n",
    "# count=0\n",
    "# for i in os.listdir('C:\\\\Lachin\\\\DataSets\\\\cancer\\\\Train\\\\seborrheic keratosis'):\n",
    "#     img=Image.open(os.path.join('C:\\\\Lachin\\\\DataSets\\\\cancer\\\\Train\\\\seborrheic keratosis',i))\n",
    "#     img=np.array(img)\n",
    "    \n",
    "#     img1=seq2(image=img)\n",
    "#     img1=Image.fromarray(np.uint8(img1)).convert('RGB')\n",
    "#     img1.save(f'C:\\\\Lachin\\\\DataSets\\\\cancer\\\\Train\\\\seborrheic keratosis\\\\img_{count}.jpg')\n",
    "#     count+=1\n",
    "    \n",
    "#     img2=seq7(image=img)\n",
    "#     img2=Image.fromarray(np.uint8(img2)).convert('RGB')\n",
    "#     img2.save(f'C:\\\\Lachin\\\\DataSets\\\\cancer\\\\Train\\\\seborrheic keratosis\\\\img_{count}.jpg')\n",
    "#     count+=1\n",
    "    \n",
    "#     img3=seq5(image=img)\n",
    "#     img3=Image.fromarray(np.uint8(img2)).convert('RGB')\n",
    "#     img3.save(f'C:\\\\Lachin\\\\DataSets\\\\cancer\\\\Train\\\\seborrheic keratosis\\\\img_{count}.jpg')\n",
    "#     count+=1\n",
    "    \n",
    "#     img1=seq3(image=img)\n",
    "#     img1=Image.fromarray(np.uint8(img1)).convert('RGB')\n",
    "#     img1.save(f'C:\\\\Lachin\\\\DataSets\\\\cancer\\\\Train\\\\seborrheic keratosis\\\\img_{count}.jpg')\n",
    "#     count+=1\n",
    "    \n",
    "# print(len(os.listdir('C:\\\\Lachin\\\\DataSets\\\\cancer\\\\Train\\\\seborrheic keratosis')))"
   ]
  },
  {
   "cell_type": "code",
   "execution_count": 11,
   "id": "460e2b59",
   "metadata": {},
   "outputs": [
    {
     "name": "stdout",
     "output_type": "stream",
     "text": [
      "543\n"
     ]
    }
   ],
   "source": [
    "#squamous cell carcinoma\n",
    "# count=0\n",
    "# for i in os.listdir('C:\\\\Lachin\\\\DataSets\\\\cancer\\\\Train\\\\squamous cell carcinoma'):\n",
    "#     img=Image.open(os.path.join('C:\\\\Lachin\\\\DataSets\\\\cancer\\\\Train\\\\squamous cell carcinoma',i))\n",
    "#     img=np.array(img)\n",
    "    \n",
    "#     img1=seq3(image=img)\n",
    "#     img1=Image.fromarray(np.uint8(img1)).convert('RGB')\n",
    "#     img1.save(f'C:\\\\Lachin\\\\DataSets\\\\cancer\\\\Train\\\\squamous cell carcinoma\\\\img_{count}.jpg')\n",
    "#     count+=1\n",
    "    \n",
    "#     img2=seq4(image=img)\n",
    "#     img2=Image.fromarray(np.uint8(img2)).convert('RGB')\n",
    "#     img2.save(f'C:\\\\Lachin\\\\DataSets\\\\cancer\\\\Train\\\\squamous cell carcinoma\\\\img_{count}.jpg')\n",
    "#     count+=1\n",
    "    \n",
    "# print(len(os.listdir('C:\\\\Lachin\\\\DataSets\\\\cancer\\\\Train\\\\squamous cell carcinoma')))"
   ]
  },
  {
   "cell_type": "code",
   "execution_count": 9,
   "id": "326ad9fb",
   "metadata": {},
   "outputs": [
    {
     "name": "stdout",
     "output_type": "stream",
     "text": [
      "417\n"
     ]
    }
   ],
   "source": [
    "#vascular lesion\n",
    "# count=0\n",
    "# for i in os.listdir('C:\\\\Lachin\\\\DataSets\\\\cancer\\\\Train\\\\vascular lesion'):\n",
    "#     img=Image.open(os.path.join('C:\\\\Lachin\\\\DataSets\\\\cancer\\\\Train\\\\vascular lesion',i))\n",
    "#     img=np.array(img)\n",
    "    \n",
    "#     img1=seq6(image=img)\n",
    "#     img1=Image.fromarray(np.uint8(img1)).convert('RGB')\n",
    "#     img1.save(f'C:\\\\Lachin\\\\DataSets\\\\cancer\\\\Train\\\\vascular lesion\\\\img_{count}.jpg')\n",
    "#     count+=1\n",
    "    \n",
    "#     img2=seq5(image=img)\n",
    "#     img2=Image.fromarray(np.uint8(img2)).convert('RGB')\n",
    "#     img2.save(f'C:\\\\Lachin\\\\DataSets\\\\cancer\\\\Train\\\\vascular lesion\\\\img_{count}.jpg')\n",
    "#     count+=1\n",
    "    \n",
    "# print(len(os.listdir('C:\\\\Lachin\\\\DataSets\\\\cancer\\\\Train\\\\vascular lesion')))"
   ]
  },
  {
   "cell_type": "code",
   "execution_count": 9,
   "id": "89e6c723",
   "metadata": {},
   "outputs": [
    {
     "name": "stdout",
     "output_type": "stream",
     "text": [
      "456\n",
      "376\n",
      "95\n",
      "438\n",
      "357\n",
      "462\n",
      "77\n",
      "181\n",
      "139\n"
     ]
    }
   ],
   "source": [
    "print(len(os.listdir('C:\\\\Lachin\\\\DataSets\\\\cancer\\\\Train\\\\actinic keratosis')))\n",
    "print(len(os.listdir('C:\\\\Lachin\\\\DataSets\\\\cancer\\\\Train\\\\basal cell carcinoma')))\n",
    "print(len(os.listdir('C:\\\\Lachin\\\\DataSets\\\\cancer\\\\Train\\\\dermatofibroma')))\n",
    "print(len(os.listdir('C:\\\\Lachin\\\\DataSets\\\\cancer\\\\Train\\\\melanoma')))\n",
    "print(len(os.listdir('C:\\\\Lachin\\\\DataSets\\\\cancer\\\\Train\\\\nevus')))\n",
    "print(len(os.listdir('C:\\\\Lachin\\\\DataSets\\\\cancer\\\\Train\\\\pigmented benign keratosis')))\n",
    "print(len(os.listdir('C:\\\\Lachin\\\\DataSets\\\\cancer\\\\Train\\\\seborrheic keratosis')))\n",
    "print(len(os.listdir('C:\\\\Lachin\\\\DataSets\\\\cancer\\\\Train\\\\squamous cell carcinoma')))\n",
    "print(len(os.listdir('C:\\\\Lachin\\\\DataSets\\\\cancer\\\\Train\\\\vascular lesion')))"
   ]
  },
  {
   "cell_type": "code",
   "execution_count": 6,
   "id": "2fb9fc93",
   "metadata": {},
   "outputs": [],
   "source": [
    "train_dir='C:\\Lachin\\DataSets\\cancer\\Train'\n",
    "validation_dir='C:\\Lachin\\DataSets\\cancer\\Test'"
   ]
  },
  {
   "cell_type": "code",
   "execution_count": 7,
   "id": "769adf71",
   "metadata": {},
   "outputs": [
    {
     "name": "stdout",
     "output_type": "stream",
     "text": [
      "Found 3814 images belonging to 9 classes.\n",
      "Found 118 images belonging to 9 classes.\n"
     ]
    }
   ],
   "source": [
    "train_datagen=ImageDataGenerator(\n",
    "    rescale=1./255,\n",
    "    rotation_range=40,\n",
    "    width_shift_range=0.2,\n",
    "    height_shift_range=0.2,\n",
    "    shear_range=0.2,\n",
    "    zoom_range=0.2,\n",
    "    horizontal_flip=True)\n",
    "test_datagen=ImageDataGenerator(rescale=1./255)\n",
    "train_generator=train_datagen.flow_from_directory(train_dir,target_size=(175,175), batch_size=32,class_mode='categorical')\n",
    "valid_generator=test_datagen.flow_from_directory(validation_dir, target_size=(175,175),batch_size=32,class_mode='categorical')"
   ]
  },
  {
   "cell_type": "code",
   "execution_count": 10,
   "id": "c9bf42a4",
   "metadata": {},
   "outputs": [],
   "source": [
    "conv_base=VGG16(weights='imagenet',include_top=False,input_shape=(175,175,3))"
   ]
  },
  {
   "cell_type": "code",
   "execution_count": 11,
   "id": "5dc7f7b3",
   "metadata": {},
   "outputs": [
    {
     "name": "stdout",
     "output_type": "stream",
     "text": [
      "Model: \"vgg16\"\n",
      "_________________________________________________________________\n",
      "Layer (type)                 Output Shape              Param #   \n",
      "=================================================================\n",
      "input_1 (InputLayer)         [(None, 175, 175, 3)]     0         \n",
      "_________________________________________________________________\n",
      "block1_conv1 (Conv2D)        (None, 175, 175, 64)      1792      \n",
      "_________________________________________________________________\n",
      "block1_conv2 (Conv2D)        (None, 175, 175, 64)      36928     \n",
      "_________________________________________________________________\n",
      "block1_pool (MaxPooling2D)   (None, 87, 87, 64)        0         \n",
      "_________________________________________________________________\n",
      "block2_conv1 (Conv2D)        (None, 87, 87, 128)       73856     \n",
      "_________________________________________________________________\n",
      "block2_conv2 (Conv2D)        (None, 87, 87, 128)       147584    \n",
      "_________________________________________________________________\n",
      "block2_pool (MaxPooling2D)   (None, 43, 43, 128)       0         \n",
      "_________________________________________________________________\n",
      "block3_conv1 (Conv2D)        (None, 43, 43, 256)       295168    \n",
      "_________________________________________________________________\n",
      "block3_conv2 (Conv2D)        (None, 43, 43, 256)       590080    \n",
      "_________________________________________________________________\n",
      "block3_conv3 (Conv2D)        (None, 43, 43, 256)       590080    \n",
      "_________________________________________________________________\n",
      "block3_pool (MaxPooling2D)   (None, 21, 21, 256)       0         \n",
      "_________________________________________________________________\n",
      "block4_conv1 (Conv2D)        (None, 21, 21, 512)       1180160   \n",
      "_________________________________________________________________\n",
      "block4_conv2 (Conv2D)        (None, 21, 21, 512)       2359808   \n",
      "_________________________________________________________________\n",
      "block4_conv3 (Conv2D)        (None, 21, 21, 512)       2359808   \n",
      "_________________________________________________________________\n",
      "block4_pool (MaxPooling2D)   (None, 10, 10, 512)       0         \n",
      "_________________________________________________________________\n",
      "block5_conv1 (Conv2D)        (None, 10, 10, 512)       2359808   \n",
      "_________________________________________________________________\n",
      "block5_conv2 (Conv2D)        (None, 10, 10, 512)       2359808   \n",
      "_________________________________________________________________\n",
      "block5_conv3 (Conv2D)        (None, 10, 10, 512)       2359808   \n",
      "_________________________________________________________________\n",
      "block5_pool (MaxPooling2D)   (None, 5, 5, 512)         0         \n",
      "=================================================================\n",
      "Total params: 14,714,688\n",
      "Trainable params: 14,714,688\n",
      "Non-trainable params: 0\n",
      "_________________________________________________________________\n"
     ]
    }
   ],
   "source": [
    "conv_base.summary()"
   ]
  },
  {
   "cell_type": "code",
   "execution_count": 27,
   "id": "54c18a06",
   "metadata": {},
   "outputs": [],
   "source": [
    "# model=models.Sequential()\n",
    "# model.add(conv_base)\n",
    "# model.add(layers.Flatten())\n",
    "# model.add(layers.Dropout(0.5))\n",
    "# model.add(layers.Dense(256, activation='relu'))\n",
    "# model.add(layers.Dense(9, activation='softmax'))"
   ]
  },
  {
   "cell_type": "code",
   "execution_count": 10,
   "id": "92821eda",
   "metadata": {},
   "outputs": [],
   "source": [
    "#customized model\n",
    "model=models.Sequential()\n",
    "model.add(layers.Conv2D(16,(3,3), activation='relu', input_shape=(175,175,3) ))\n",
    "model.add(layers.MaxPool2D())\n",
    "model.add(layers.Dropout(0.25))\n",
    "model.add(layers.Conv2D(32,(3,3), activation='relu', input_shape=(175,175,3) ))\n",
    "model.add(layers.MaxPool2D())\n",
    "model.add(layers.Dropout(0.25))\n",
    "model.add(layers.Conv2D(64,(3,3), activation='relu', input_shape=(175,175,3) ))\n",
    "model.add(layers.MaxPool2D())\n",
    "model.add(layers.Dropout(0.25))\n",
    "model.add(layers.Flatten())\n",
    "model.add(layers.Dense(128, activation='relu'))\n",
    "model.add(layers.Dense(9, activation='softmax'))"
   ]
  },
  {
   "cell_type": "code",
   "execution_count": 11,
   "id": "b5c035cf",
   "metadata": {},
   "outputs": [
    {
     "name": "stdout",
     "output_type": "stream",
     "text": [
      "Model: \"sequential\"\n",
      "_________________________________________________________________\n",
      "Layer (type)                 Output Shape              Param #   \n",
      "=================================================================\n",
      "conv2d (Conv2D)              (None, 173, 173, 16)      448       \n",
      "_________________________________________________________________\n",
      "max_pooling2d (MaxPooling2D) (None, 86, 86, 16)        0         \n",
      "_________________________________________________________________\n",
      "dropout (Dropout)            (None, 86, 86, 16)        0         \n",
      "_________________________________________________________________\n",
      "conv2d_1 (Conv2D)            (None, 84, 84, 32)        4640      \n",
      "_________________________________________________________________\n",
      "max_pooling2d_1 (MaxPooling2 (None, 42, 42, 32)        0         \n",
      "_________________________________________________________________\n",
      "dropout_1 (Dropout)          (None, 42, 42, 32)        0         \n",
      "_________________________________________________________________\n",
      "conv2d_2 (Conv2D)            (None, 40, 40, 64)        18496     \n",
      "_________________________________________________________________\n",
      "max_pooling2d_2 (MaxPooling2 (None, 20, 20, 64)        0         \n",
      "_________________________________________________________________\n",
      "dropout_2 (Dropout)          (None, 20, 20, 64)        0         \n",
      "_________________________________________________________________\n",
      "flatten (Flatten)            (None, 25600)             0         \n",
      "_________________________________________________________________\n",
      "dense (Dense)                (None, 128)               3276928   \n",
      "_________________________________________________________________\n",
      "dense_1 (Dense)              (None, 9)                 1161      \n",
      "=================================================================\n",
      "Total params: 3,301,673\n",
      "Trainable params: 3,301,673\n",
      "Non-trainable params: 0\n",
      "_________________________________________________________________\n"
     ]
    }
   ],
   "source": [
    "model.summary()"
   ]
  },
  {
   "cell_type": "code",
   "execution_count": 15,
   "id": "3bf33ea4",
   "metadata": {},
   "outputs": [],
   "source": [
    "model.compile(loss='categorical_crossentropy',optimizer='adam', metrics=['accuracy'])"
   ]
  },
  {
   "cell_type": "code",
   "execution_count": 17,
   "id": "9c27f0c0",
   "metadata": {},
   "outputs": [],
   "source": [
    "check_cb=keras.callbacks.ModelCheckpoint(\"Cancer_tune.h5\", save_best_only=True)"
   ]
  },
  {
   "cell_type": "code",
   "execution_count": 19,
   "id": "9e22de8b",
   "metadata": {},
   "outputs": [
    {
     "name": "stdout",
     "output_type": "stream",
     "text": [
      "Epoch 1/20\n",
      "119/119 [==============================] - 118s 993ms/step - loss: 1.1768 - accuracy: 0.5338 - val_loss: 2.0136 - val_accuracy: 0.3750\n",
      "Epoch 2/20\n",
      "119/119 [==============================] - 112s 939ms/step - loss: 1.1714 - accuracy: 0.5389 - val_loss: 2.1363 - val_accuracy: 0.4062\n",
      "Epoch 3/20\n",
      "119/119 [==============================] - 112s 944ms/step - loss: 1.1508 - accuracy: 0.5415 - val_loss: 2.0076 - val_accuracy: 0.3750\n",
      "Epoch 4/20\n",
      "119/119 [==============================] - 114s 960ms/step - loss: 1.1453 - accuracy: 0.5457 - val_loss: 1.9732 - val_accuracy: 0.4375\n",
      "Epoch 5/20\n",
      "119/119 [==============================] - 113s 947ms/step - loss: 1.1389 - accuracy: 0.5598 - val_loss: 1.9247 - val_accuracy: 0.4271\n",
      "Epoch 6/20\n",
      "119/119 [==============================] - 114s 957ms/step - loss: 1.1337 - accuracy: 0.5600 - val_loss: 2.0314 - val_accuracy: 0.3646\n",
      "Epoch 7/20\n",
      "119/119 [==============================] - 114s 962ms/step - loss: 1.1149 - accuracy: 0.5653 - val_loss: 2.3521 - val_accuracy: 0.3542\n",
      "Epoch 8/20\n",
      "119/119 [==============================] - 114s 963ms/step - loss: 1.1307 - accuracy: 0.5476 - val_loss: 2.0864 - val_accuracy: 0.3542\n",
      "Epoch 9/20\n",
      "119/119 [==============================] - 107s 901ms/step - loss: 1.0973 - accuracy: 0.5701 - val_loss: 2.0815 - val_accuracy: 0.3750\n",
      "Epoch 10/20\n",
      "119/119 [==============================] - 106s 894ms/step - loss: 1.0861 - accuracy: 0.5603 - val_loss: 2.0155 - val_accuracy: 0.4688\n",
      "Epoch 11/20\n",
      "119/119 [==============================] - 108s 904ms/step - loss: 1.1122 - accuracy: 0.5579 - val_loss: 1.8922 - val_accuracy: 0.4271\n",
      "Epoch 12/20\n",
      "119/119 [==============================] - 107s 894ms/step - loss: 1.0750 - accuracy: 0.5785 - val_loss: 2.0535 - val_accuracy: 0.4271\n",
      "Epoch 13/20\n",
      "119/119 [==============================] - 106s 895ms/step - loss: 1.0879 - accuracy: 0.5643 - val_loss: 2.2062 - val_accuracy: 0.4271\n",
      "Epoch 14/20\n",
      "119/119 [==============================] - 107s 898ms/step - loss: 1.0617 - accuracy: 0.5838 - val_loss: 2.0635 - val_accuracy: 0.4375\n",
      "Epoch 15/20\n",
      "119/119 [==============================] - 107s 898ms/step - loss: 1.0690 - accuracy: 0.5687 - val_loss: 2.4455 - val_accuracy: 0.3958\n",
      "Epoch 16/20\n",
      "119/119 [==============================] - 107s 900ms/step - loss: 1.0482 - accuracy: 0.5825 - val_loss: 2.2893 - val_accuracy: 0.4271\n",
      "Epoch 17/20\n",
      "119/119 [==============================] - 108s 905ms/step - loss: 1.0650 - accuracy: 0.5817 - val_loss: 2.0348 - val_accuracy: 0.4271\n",
      "Epoch 18/20\n",
      "119/119 [==============================] - 109s 913ms/step - loss: 1.0488 - accuracy: 0.5812 - val_loss: 2.0955 - val_accuracy: 0.4167\n",
      "Epoch 19/20\n",
      "119/119 [==============================] - 107s 901ms/step - loss: 1.0283 - accuracy: 0.5918 - val_loss: 1.9189 - val_accuracy: 0.3958\n",
      "Epoch 20/20\n",
      "119/119 [==============================] - 108s 908ms/step - loss: 1.0465 - accuracy: 0.5968 - val_loss: 2.1558 - val_accuracy: 0.3750\n"
     ]
    }
   ],
   "source": [
    "model_tp=model.fit_generator(train_generator, steps_per_epoch=3814//32,epochs=20,validation_data=valid_generator,validation_steps=118//32, callbacks=check_cb)"
   ]
  },
  {
   "cell_type": "code",
   "execution_count": 20,
   "id": "28a1cdce",
   "metadata": {},
   "outputs": [
    {
     "data": {
      "image/png": "[encoded data removed]",
      "text/plain": [
       "<Figure size 576x576 with 1 Axes>"
      ]
     },
     "metadata": {
      "needs_background": "light"
     },
     "output_type": "display_data"
    }
   ],
   "source": [
    "pd.DataFrame(model_tp.history).plot(figsize=(8,8))\n",
    "plt.grid(True)"
   ]
  },
  {
   "cell_type": "code",
   "execution_count": null,
   "id": "62a0c496",
   "metadata": {},
   "outputs": [],
   "source": []
  }
 ],
 "metadata": {
  "kernelspec": {
   "display_name": "Python 3",
   "language": "python",
   "name": "python3"
  },
  "language_info": {
   "codemirror_mode": {
    "name": "ipython",
    "version": 3
   },
   "file_extension": ".py",
   "mimetype": "text/x-python",
   "name": "python",
   "nbconvert_exporter": "python",
   "pygments_lexer": "ipython3",
   "version": "3.8.8"
  }
 },
 "nbformat": 4,
 "nbformat_minor": 5
}
