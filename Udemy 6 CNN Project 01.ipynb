{
 "cells": [
  {
   "cell_type": "code",
   "execution_count": 50,
   "id": "b389394a",
   "metadata": {},
   "outputs": [],
   "source": [
    "import numpy as np \n",
    "import pandas as pd\n",
    "import matplotlib.pyplot as plt\n",
    "import os\n",
    "import tensorflow as tf\n",
    "from tensorflow import keras\n",
    "from tensorflow.keras.preprocessing.image import ImageDataGenerator\n",
    "from tensorflow.keras import layers, models, optimizers\n",
    "from tensorflow.keras import backend as k\n",
    "from tensorflow.keras.applications import VGG16"
   ]
  },
  {
   "cell_type": "code",
   "execution_count": 17,
   "id": "795903aa",
   "metadata": {},
   "outputs": [],
   "source": [
    "train_dir='C:\\\\Lachin\\\\DataSets\\\\train'\n",
    "validation_dir='C:\\\\Lachin\\\\DataSets\\\\validation'\n",
    "test_dir='C:\\\\Lachin\\\\DataSets\\\\test'"
   ]
  },
  {
   "cell_type": "code",
   "execution_count": 18,
   "id": "d5befe99",
   "metadata": {},
   "outputs": [
    {
     "name": "stdout",
     "output_type": "stream",
     "text": [
      "Found 2000 images belonging to 2 classes.\n",
      "Found 1000 images belonging to 2 classes.\n"
     ]
    }
   ],
   "source": [
    "train_datagen=ImageDataGenerator(rescale=1./255)\n",
    "test_datagen=ImageDataGenerator(rescale=1./255)\n",
    "train_generator=train_datagen.flow_from_directory(train_dir, target_size=(150,150),batch_size=20, class_mode='binary')\n",
    "valid_generator=test_datagen.flow_from_directory(validation_dir, target_size=(150,150), batch_size=20, class_mode='binary')"
   ]
  },
  {
   "cell_type": "markdown",
   "id": "ad95a550",
   "metadata": {},
   "source": [
    "- Image Generator is the best practice becuase data augmentation can be done very easily"
   ]
  },
  {
   "cell_type": "code",
   "execution_count": 21,
   "id": "e12da099",
   "metadata": {},
   "outputs": [],
   "source": [
    "model=models.Sequential()\n",
    "model.add(layers.Conv2D(32,(3,3),activation='relu',input_shape=(150,150,3)))\n",
    "model.add(layers.MaxPooling2D((2,2)))\n",
    "model.add(layers.Conv2D(64,(3,3), activation='relu'))\n",
    "model.add(layers.MaxPooling2D((2,2)))\n",
    "model.add(layers.Conv2D(128,(3,3), activation='relu'))\n",
    "model.add(layers.MaxPooling2D((2,2)))\n",
    "model.add(layers.Conv2D(128,(3,3), activation='relu'))\n",
    "model.add(layers.MaxPooling2D((2,2)))\n",
    "model.add(layers.Flatten())\n",
    "model.add(layers.Dense(512, activation='relu'))\n",
    "model.add(layers.Dense(1,activation='sigmoid'))"
   ]
  },
  {
   "cell_type": "code",
   "execution_count": 22,
   "id": "01cce399",
   "metadata": {},
   "outputs": [
    {
     "name": "stdout",
     "output_type": "stream",
     "text": [
      "Model: \"sequential\"\n",
      "_________________________________________________________________\n",
      "Layer (type)                 Output Shape              Param #   \n",
      "=================================================================\n",
      "conv2d (Conv2D)              (None, 148, 148, 32)      896       \n",
      "_________________________________________________________________\n",
      "max_pooling2d (MaxPooling2D) (None, 74, 74, 32)        0         \n",
      "_________________________________________________________________\n",
      "conv2d_1 (Conv2D)            (None, 72, 72, 64)        18496     \n",
      "_________________________________________________________________\n",
      "max_pooling2d_1 (MaxPooling2 (None, 36, 36, 64)        0         \n",
      "_________________________________________________________________\n",
      "conv2d_2 (Conv2D)            (None, 34, 34, 128)       73856     \n",
      "_________________________________________________________________\n",
      "max_pooling2d_2 (MaxPooling2 (None, 17, 17, 128)       0         \n",
      "_________________________________________________________________\n",
      "conv2d_3 (Conv2D)            (None, 15, 15, 128)       147584    \n",
      "_________________________________________________________________\n",
      "max_pooling2d_3 (MaxPooling2 (None, 7, 7, 128)         0         \n",
      "_________________________________________________________________\n",
      "flatten (Flatten)            (None, 6272)              0         \n",
      "_________________________________________________________________\n",
      "dense (Dense)                (None, 512)               3211776   \n",
      "_________________________________________________________________\n",
      "dense_1 (Dense)              (None, 1)                 513       \n",
      "=================================================================\n",
      "Total params: 3,453,121\n",
      "Trainable params: 3,453,121\n",
      "Non-trainable params: 0\n",
      "_________________________________________________________________\n"
     ]
    }
   ],
   "source": [
    "model.summary()"
   ]
  },
  {
   "cell_type": "code",
   "execution_count": 25,
   "id": "f3fe72fe",
   "metadata": {},
   "outputs": [],
   "source": [
    "model.compile(loss='binary_crossentropy', optimizer=optimizers.RMSprop(1e-4), metrics=['accuracy'])"
   ]
  },
  {
   "cell_type": "code",
   "execution_count": 27,
   "id": "e60a3934",
   "metadata": {},
   "outputs": [
    {
     "name": "stdout",
     "output_type": "stream",
     "text": [
      "Epoch 1/30\n",
      "100/100 [==============================] - 42s 423ms/step - loss: 0.6319 - accuracy: 0.6590 - val_loss: 0.6255 - val_accuracy: 0.6590\n",
      "Epoch 2/30\n",
      "100/100 [==============================] - 45s 447ms/step - loss: 0.5799 - accuracy: 0.6905 - val_loss: 0.5958 - val_accuracy: 0.6610\n",
      "Epoch 3/30\n",
      "100/100 [==============================] - 45s 447ms/step - loss: 0.5449 - accuracy: 0.7260 - val_loss: 0.5936 - val_accuracy: 0.6710\n",
      "Epoch 4/30\n",
      "100/100 [==============================] - 45s 451ms/step - loss: 0.5107 - accuracy: 0.7495 - val_loss: 0.6028 - val_accuracy: 0.6800\n",
      "Epoch 5/30\n",
      "100/100 [==============================] - 45s 447ms/step - loss: 0.4727 - accuracy: 0.7810 - val_loss: 0.5896 - val_accuracy: 0.6880\n",
      "Epoch 6/30\n",
      "100/100 [==============================] - 46s 457ms/step - loss: 0.4393 - accuracy: 0.8040 - val_loss: 0.5872 - val_accuracy: 0.6880\n",
      "Epoch 7/30\n",
      "100/100 [==============================] - 47s 474ms/step - loss: 0.4103 - accuracy: 0.8055 - val_loss: 0.6131 - val_accuracy: 0.6950\n",
      "Epoch 8/30\n",
      "100/100 [==============================] - 50s 502ms/step - loss: 0.3861 - accuracy: 0.8155 - val_loss: 0.5497 - val_accuracy: 0.7210\n",
      "Epoch 9/30\n",
      "100/100 [==============================] - 46s 456ms/step - loss: 0.3590 - accuracy: 0.8400 - val_loss: 0.6527 - val_accuracy: 0.6890\n",
      "Epoch 10/30\n",
      "100/100 [==============================] - 45s 454ms/step - loss: 0.3337 - accuracy: 0.8555 - val_loss: 0.6942 - val_accuracy: 0.6760\n",
      "Epoch 11/30\n",
      "100/100 [==============================] - 46s 457ms/step - loss: 0.3015 - accuracy: 0.8815 - val_loss: 0.6177 - val_accuracy: 0.7040\n",
      "Epoch 12/30\n",
      "100/100 [==============================] - 46s 458ms/step - loss: 0.2815 - accuracy: 0.8780 - val_loss: 0.5799 - val_accuracy: 0.7180\n",
      "Epoch 13/30\n",
      "100/100 [==============================] - 45s 454ms/step - loss: 0.2529 - accuracy: 0.8900 - val_loss: 0.6589 - val_accuracy: 0.7050\n",
      "Epoch 14/30\n",
      "100/100 [==============================] - 45s 454ms/step - loss: 0.2273 - accuracy: 0.9085 - val_loss: 0.6695 - val_accuracy: 0.7090\n",
      "Epoch 15/30\n",
      "100/100 [==============================] - 45s 450ms/step - loss: 0.2005 - accuracy: 0.9290 - val_loss: 0.6632 - val_accuracy: 0.7130\n",
      "Epoch 16/30\n",
      "100/100 [==============================] - 45s 451ms/step - loss: 0.1794 - accuracy: 0.9325 - val_loss: 0.7411 - val_accuracy: 0.7080\n",
      "Epoch 17/30\n",
      "100/100 [==============================] - 45s 452ms/step - loss: 0.1446 - accuracy: 0.9515 - val_loss: 0.7713 - val_accuracy: 0.7080\n",
      "Epoch 18/30\n",
      "100/100 [==============================] - 45s 452ms/step - loss: 0.1419 - accuracy: 0.9500 - val_loss: 0.8999 - val_accuracy: 0.6950\n",
      "Epoch 19/30\n",
      "100/100 [==============================] - 45s 450ms/step - loss: 0.1220 - accuracy: 0.9575 - val_loss: 0.8014 - val_accuracy: 0.7230\n",
      "Epoch 20/30\n",
      "100/100 [==============================] - 1154s 12s/step - loss: 0.1001 - accuracy: 0.9670 - val_loss: 0.9329 - val_accuracy: 0.7150\n",
      "Epoch 21/30\n",
      "100/100 [==============================] - 45s 450ms/step - loss: 0.0857 - accuracy: 0.9725 - val_loss: 0.9166 - val_accuracy: 0.7160\n",
      "Epoch 22/30\n",
      "100/100 [==============================] - 46s 458ms/step - loss: 0.0753 - accuracy: 0.9745 - val_loss: 1.0098 - val_accuracy: 0.7150\n",
      "Epoch 23/30\n",
      "100/100 [==============================] - 46s 459ms/step - loss: 0.0609 - accuracy: 0.9850 - val_loss: 1.0780 - val_accuracy: 0.7130\n",
      "Epoch 24/30\n",
      "100/100 [==============================] - 46s 457ms/step - loss: 0.0522 - accuracy: 0.9845 - val_loss: 1.1928 - val_accuracy: 0.7060\n",
      "Epoch 25/30\n",
      "100/100 [==============================] - 46s 458ms/step - loss: 0.0428 - accuracy: 0.9865 - val_loss: 1.1578 - val_accuracy: 0.7150\n",
      "Epoch 26/30\n",
      "100/100 [==============================] - 46s 461ms/step - loss: 0.0364 - accuracy: 0.9920 - val_loss: 1.0980 - val_accuracy: 0.7140\n",
      "Epoch 27/30\n",
      "100/100 [==============================] - 47s 473ms/step - loss: 0.0311 - accuracy: 0.9930 - val_loss: 1.1644 - val_accuracy: 0.7140\n",
      "Epoch 28/30\n",
      "100/100 [==============================] - 46s 462ms/step - loss: 0.0226 - accuracy: 0.9955 - val_loss: 1.4520 - val_accuracy: 0.7110\n",
      "Epoch 29/30\n",
      "100/100 [==============================] - 45s 450ms/step - loss: 0.0223 - accuracy: 0.9960 - val_loss: 1.2772 - val_accuracy: 0.7210\n",
      "Epoch 30/30\n",
      "100/100 [==============================] - 45s 455ms/step - loss: 0.0187 - accuracy: 0.9960 - val_loss: 1.3506 - val_accuracy: 0.7220\n"
     ]
    }
   ],
   "source": [
    "model_hist=model.fit_generator(train_generator, steps_per_epoch=100, epochs=30, validation_data=valid_generator, validation_steps=50)"
   ]
  },
  {
   "cell_type": "markdown",
   "id": "dcee5669",
   "metadata": {},
   "source": [
    "- Here addition to model.fit, model.fit_generator used because now the input data is coming batch sizze 0f 20 from directory\n",
    "- steps_per_epochs means we are getting batch size 0f 20 from training set of 2000 data hence steps_per_epoch=2000/20\n",
    "- same goes with validation_steps, validation_steps=1000/20"
   ]
  },
  {
   "cell_type": "code",
   "execution_count": 28,
   "id": "0eb6ea20",
   "metadata": {},
   "outputs": [
    {
     "data": {
      "image/png": "[encoded data removed]",
      "text/plain": [
       "<Figure size 576x576 with 1 Axes>"
      ]
     },
     "metadata": {
      "needs_background": "light"
     },
     "output_type": "display_data"
    }
   ],
   "source": [
    "pd.DataFrame(model_hist.history).plot(figsize=(8,8))\n",
    "plt.grid(True)\n"
   ]
  },
  {
   "cell_type": "markdown",
   "id": "80559e48",
   "metadata": {},
   "source": [
    "- Data set is overfitted "
   ]
  },
  {
   "cell_type": "code",
   "execution_count": 29,
   "id": "ae2b7155",
   "metadata": {},
   "outputs": [
    {
     "name": "stdout",
     "output_type": "stream",
     "text": [
      "INFO:tensorflow:Assets written to: CNN1\\assets\n"
     ]
    }
   ],
   "source": [
    "model.save('CNN1')"
   ]
  },
  {
   "cell_type": "code",
   "execution_count": 31,
   "id": "f0b87f8c",
   "metadata": {},
   "outputs": [],
   "source": [
    "k.clear_session()"
   ]
  },
  {
   "cell_type": "code",
   "execution_count": 32,
   "id": "4a4f14bc",
   "metadata": {},
   "outputs": [],
   "source": [
    "del model"
   ]
  },
  {
   "cell_type": "markdown",
   "id": "d64f19bb",
   "metadata": {},
   "source": [
    "## Data Augmentation"
   ]
  },
  {
   "cell_type": "code",
   "execution_count": 36,
   "id": "35e59271",
   "metadata": {},
   "outputs": [
    {
     "name": "stdout",
     "output_type": "stream",
     "text": [
      "Found 2000 images belonging to 2 classes.\n",
      "Found 1000 images belonging to 2 classes.\n"
     ]
    }
   ],
   "source": [
    "train_datagen=ImageDataGenerator(\n",
    "    rescale=1./255,\n",
    "    rotation_range=40,\n",
    "    width_shift_range=0.2,\n",
    "    height_shift_range=0.2,\n",
    "    shear_range=0.2,\n",
    "    zoom_range=0.2,\n",
    "    horizontal_flip=True)\n",
    "test_datagen=ImageDataGenerator(rescale=1./255)\n",
    "train_generator=train_datagen.flow_from_directory(train_dir,target_size=(150,150), batch_size=32,class_mode='binary')\n",
    "valid_generator=test_datagen.flow_from_directory(validation_dir, target_size=(150,150),batch_size=32,class_mode='binary')"
   ]
  },
  {
   "cell_type": "code",
   "execution_count": 39,
   "id": "f6297f0f",
   "metadata": {},
   "outputs": [],
   "source": [
    "model = models.Sequential()\n",
    "model.add(layers.InputLayer(input_shape=(150,150,3)))\n",
    "model.add(layers.Conv2D(32, (3, 3), activation='relu'))\n",
    "model.add(layers.MaxPooling2D((2, 2)))\n",
    "model.add(layers.Conv2D(64, (3, 3), activation='relu'))\n",
    "model.add(layers.MaxPooling2D((2, 2)))\n",
    "model.add(layers.Conv2D(128, (3, 3), activation='relu'))\n",
    "model.add(layers.MaxPooling2D((2, 2)))\n",
    "model.add(layers.Conv2D(128, (3, 3), activation='relu'))\n",
    "model.add(layers.MaxPooling2D((2, 2)))\n",
    "model.add(layers.Flatten())\n",
    "model.add(layers.Dropout(0.5))\n",
    "model.add(layers.Dense(512, activation='relu'))\n",
    "model.add(layers.Dense(9, activation='sigmoid'))"
   ]
  },
  {
   "cell_type": "markdown",
   "id": "e84eac9c",
   "metadata": {},
   "source": [
    "- Here dropout layer is used to stop overfitting \n",
    "- Usuall it negelct 50% neurons and train the model\n",
    "- we can use input layer function or can insert input shape attrubute to convolutional layer"
   ]
  },
  {
   "cell_type": "code",
   "execution_count": 40,
   "id": "fdb4c826",
   "metadata": {},
   "outputs": [
    {
     "name": "stdout",
     "output_type": "stream",
     "text": [
      "Model: \"sequential\"\n",
      "_________________________________________________________________\n",
      "Layer (type)                 Output Shape              Param #   \n",
      "=================================================================\n",
      "conv2d (Conv2D)              (None, 148, 148, 32)      896       \n",
      "_________________________________________________________________\n",
      "max_pooling2d (MaxPooling2D) (None, 74, 74, 32)        0         \n",
      "_________________________________________________________________\n",
      "conv2d_1 (Conv2D)            (None, 72, 72, 64)        18496     \n",
      "_________________________________________________________________\n",
      "max_pooling2d_1 (MaxPooling2 (None, 36, 36, 64)        0         \n",
      "_________________________________________________________________\n",
      "conv2d_2 (Conv2D)            (None, 34, 34, 128)       73856     \n",
      "_________________________________________________________________\n",
      "max_pooling2d_2 (MaxPooling2 (None, 17, 17, 128)       0         \n",
      "_________________________________________________________________\n",
      "conv2d_3 (Conv2D)            (None, 15, 15, 128)       147584    \n",
      "_________________________________________________________________\n",
      "max_pooling2d_3 (MaxPooling2 (None, 7, 7, 128)         0         \n",
      "_________________________________________________________________\n",
      "flatten (Flatten)            (None, 6272)              0         \n",
      "_________________________________________________________________\n",
      "dropout (Dropout)            (None, 6272)              0         \n",
      "_________________________________________________________________\n",
      "dense (Dense)                (None, 512)               3211776   \n",
      "_________________________________________________________________\n",
      "dense_1 (Dense)              (None, 1)                 513       \n",
      "=================================================================\n",
      "Total params: 3,453,121\n",
      "Trainable params: 3,453,121\n",
      "Non-trainable params: 0\n",
      "_________________________________________________________________\n"
     ]
    }
   ],
   "source": [
    "model.summary()"
   ]
  },
  {
   "cell_type": "code",
   "execution_count": 41,
   "id": "0191f878",
   "metadata": {},
   "outputs": [],
   "source": [
    "model.compile(loss='binary_crossentropy', optimizer=optimizers.RMSprop(1e-4),metrics=['accuracy'])"
   ]
  },
  {
   "cell_type": "code",
   "execution_count": 45,
   "id": "33a5eb3c",
   "metadata": {},
   "outputs": [
    {
     "name": "stdout",
     "output_type": "stream",
     "text": [
      "Epoch 1/30\n",
      "62/62 [==============================] - 43s 695ms/step - loss: 0.6650 - accuracy: 0.5879 - val_loss: 0.6437 - val_accuracy: 0.6079\n",
      "Epoch 2/30\n",
      "62/62 [==============================] - 46s 747ms/step - loss: 0.6506 - accuracy: 0.6026 - val_loss: 0.6832 - val_accuracy: 0.5333\n",
      "Epoch 3/30\n",
      "62/62 [==============================] - 46s 746ms/step - loss: 0.6462 - accuracy: 0.6377 - val_loss: 0.6200 - val_accuracy: 0.6401\n",
      "Epoch 4/30\n",
      "62/62 [==============================] - 47s 750ms/step - loss: 0.6246 - accuracy: 0.6489 - val_loss: 0.6374 - val_accuracy: 0.6381\n",
      "Epoch 5/30\n",
      "62/62 [==============================] - 47s 750ms/step - loss: 0.6192 - accuracy: 0.6484 - val_loss: 0.5903 - val_accuracy: 0.6875\n",
      "Epoch 6/30\n",
      "62/62 [==============================] - 47s 758ms/step - loss: 0.6111 - accuracy: 0.6565 - val_loss: 0.6118 - val_accuracy: 0.6613\n",
      "Epoch 7/30\n",
      "62/62 [==============================] - 46s 748ms/step - loss: 0.5981 - accuracy: 0.6616 - val_loss: 0.6055 - val_accuracy: 0.6663\n",
      "Epoch 8/30\n",
      "62/62 [==============================] - 46s 739ms/step - loss: 0.5901 - accuracy: 0.6723 - val_loss: 0.6210 - val_accuracy: 0.6613\n",
      "Epoch 9/30\n",
      "62/62 [==============================] - 47s 751ms/step - loss: 0.5879 - accuracy: 0.6895 - val_loss: 0.6009 - val_accuracy: 0.6815\n",
      "Epoch 10/30\n",
      "62/62 [==============================] - 47s 753ms/step - loss: 0.5829 - accuracy: 0.6900 - val_loss: 0.5610 - val_accuracy: 0.6986\n",
      "Epoch 11/30\n",
      "62/62 [==============================] - 46s 747ms/step - loss: 0.5818 - accuracy: 0.6855 - val_loss: 0.5739 - val_accuracy: 0.6845\n",
      "Epoch 12/30\n",
      "62/62 [==============================] - 46s 737ms/step - loss: 0.5818 - accuracy: 0.6961 - val_loss: 0.5541 - val_accuracy: 0.7036\n",
      "Epoch 13/30\n",
      "62/62 [==============================] - 46s 745ms/step - loss: 0.5700 - accuracy: 0.7068 - val_loss: 0.5650 - val_accuracy: 0.6825\n",
      "Epoch 14/30\n",
      "62/62 [==============================] - 3233s 53s/step - loss: 0.5732 - accuracy: 0.7012 - val_loss: 0.5553 - val_accuracy: 0.7067\n",
      "Epoch 15/30\n",
      "62/62 [==============================] - 45s 727ms/step - loss: 0.5622 - accuracy: 0.7114 - val_loss: 0.6487 - val_accuracy: 0.6310\n",
      "Epoch 16/30\n",
      "62/62 [==============================] - 47s 755ms/step - loss: 0.5534 - accuracy: 0.7175 - val_loss: 0.5311 - val_accuracy: 0.7208\n",
      "Epoch 17/30\n",
      "62/62 [==============================] - 49s 786ms/step - loss: 0.5513 - accuracy: 0.7165 - val_loss: 0.6588 - val_accuracy: 0.6562\n",
      "Epoch 18/30\n",
      "62/62 [==============================] - 48s 780ms/step - loss: 0.5497 - accuracy: 0.7144 - val_loss: 0.5506 - val_accuracy: 0.7046\n",
      "Epoch 19/30\n",
      "62/62 [==============================] - 47s 755ms/step - loss: 0.5450 - accuracy: 0.7282 - val_loss: 0.5289 - val_accuracy: 0.7298\n",
      "Epoch 20/30\n",
      "62/62 [==============================] - 47s 760ms/step - loss: 0.5447 - accuracy: 0.7165 - val_loss: 0.5716 - val_accuracy: 0.6865\n",
      "Epoch 21/30\n",
      "62/62 [==============================] - 48s 776ms/step - loss: 0.5460 - accuracy: 0.7175 - val_loss: 0.5204 - val_accuracy: 0.7369\n",
      "Epoch 22/30\n",
      "62/62 [==============================] - 49s 792ms/step - loss: 0.5397 - accuracy: 0.7205 - val_loss: 0.5221 - val_accuracy: 0.7278\n",
      "Epoch 23/30\n",
      "62/62 [==============================] - 48s 767ms/step - loss: 0.5395 - accuracy: 0.7292 - val_loss: 0.5300 - val_accuracy: 0.7238\n",
      "Epoch 24/30\n",
      "62/62 [==============================] - 54s 881ms/step - loss: 0.5286 - accuracy: 0.7276 - val_loss: 0.5233 - val_accuracy: 0.7278\n",
      "Epoch 25/30\n",
      "62/62 [==============================] - 49s 786ms/step - loss: 0.5272 - accuracy: 0.7332 - val_loss: 0.5406 - val_accuracy: 0.7258\n",
      "Epoch 26/30\n",
      "62/62 [==============================] - 49s 797ms/step - loss: 0.5234 - accuracy: 0.7314 - val_loss: 0.5270 - val_accuracy: 0.7339\n",
      "Epoch 27/30\n",
      "62/62 [==============================] - 49s 786ms/step - loss: 0.5282 - accuracy: 0.7353 - val_loss: 0.5096 - val_accuracy: 0.7530\n",
      "Epoch 28/30\n",
      "62/62 [==============================] - 51s 819ms/step - loss: 0.5288 - accuracy: 0.7322 - val_loss: 0.5226 - val_accuracy: 0.7248\n",
      "Epoch 29/30\n",
      "62/62 [==============================] - 50s 814ms/step - loss: 0.5169 - accuracy: 0.7398 - val_loss: 0.6570 - val_accuracy: 0.6734\n",
      "Epoch 30/30\n",
      "62/62 [==============================] - 49s 782ms/step - loss: 0.5124 - accuracy: 0.7475 - val_loss: 0.4860 - val_accuracy: 0.7702\n"
     ]
    }
   ],
   "source": [
    "model_f=model.fit_generator(train_generator, steps_per_epoch=62,epochs=30,validation_data=valid_generator, validation_steps=31)"
   ]
  },
  {
   "cell_type": "code",
   "execution_count": 46,
   "id": "d15307bf",
   "metadata": {},
   "outputs": [
    {
     "data": {
      "image/png": "[encoded data removed]",
      "text/plain": [
       "<Figure size 576x576 with 1 Axes>"
      ]
     },
     "metadata": {
      "needs_background": "light"
     },
     "output_type": "display_data"
    }
   ],
   "source": [
    "pd.DataFrame(model_f.history).plot(figsize=(8,8))\n",
    "plt.grid(True)"
   ]
  },
  {
   "cell_type": "code",
   "execution_count": 47,
   "id": "8a4c3307",
   "metadata": {},
   "outputs": [],
   "source": [
    "model.save('CNN2.h5')"
   ]
  },
  {
   "cell_type": "code",
   "execution_count": 48,
   "id": "e8631269",
   "metadata": {},
   "outputs": [],
   "source": [
    "keras.backend.clear_session()\n",
    "del model"
   ]
  },
  {
   "cell_type": "markdown",
   "id": "f4212ba0",
   "metadata": {},
   "source": [
    "## Transfer Learning"
   ]
  },
  {
   "cell_type": "markdown",
   "id": "c9c7bf4e",
   "metadata": {},
   "source": [
    "# VGG16"
   ]
  },
  {
   "cell_type": "code",
   "execution_count": 49,
   "id": "e61b334b",
   "metadata": {},
   "outputs": [
    {
     "name": "stdout",
     "output_type": "stream",
     "text": [
      "Found 2000 images belonging to 2 classes.\n",
      "Found 1000 images belonging to 2 classes.\n"
     ]
    }
   ],
   "source": [
    "train_datagen=ImageDataGenerator(\n",
    "    rescale=1./255,\n",
    "    rotation_range=40,\n",
    "    width_shift_range=0.2,\n",
    "    height_shift_range=0.2,\n",
    "    shear_range=0.2,\n",
    "    zoom_range=0.2,\n",
    "    horizontal_flip=True)\n",
    "test_datagen=ImageDataGenerator(rescale=1./255)\n",
    "train_generator=train_datagen.flow_from_directory(train_dir,target_size=(150,150), batch_size=32,class_mode='binary')\n",
    "valid_generator=test_datagen.flow_from_directory(validation_dir, target_size=(150,150),batch_size=32,class_mode='binary')"
   ]
  },
  {
   "cell_type": "code",
   "execution_count": 51,
   "id": "d1b8ba1a",
   "metadata": {},
   "outputs": [
    {
     "name": "stdout",
     "output_type": "stream",
     "text": [
      "Downloading data from https://storage.googleapis.com/tensorflow/keras-applications/vgg16/vgg16_weights_tf_dim_ordering_tf_kernels_notop.h5\n",
      "58892288/58889256 [==============================] - 38s 1us/step\n"
     ]
    }
   ],
   "source": [
    "conv_base=VGG16(weights='imagenet',include_top=False,input_shape=(150,150,3))"
   ]
  },
  {
   "cell_type": "code",
   "execution_count": 52,
   "id": "780bd64e",
   "metadata": {},
   "outputs": [
    {
     "name": "stdout",
     "output_type": "stream",
     "text": [
      "Model: \"vgg16\"\n",
      "_________________________________________________________________\n",
      "Layer (type)                 Output Shape              Param #   \n",
      "=================================================================\n",
      "input_1 (InputLayer)         [(None, 150, 150, 3)]     0         \n",
      "_________________________________________________________________\n",
      "block1_conv1 (Conv2D)        (None, 150, 150, 64)      1792      \n",
      "_________________________________________________________________\n",
      "block1_conv2 (Conv2D)        (None, 150, 150, 64)      36928     \n",
      "_________________________________________________________________\n",
      "block1_pool (MaxPooling2D)   (None, 75, 75, 64)        0         \n",
      "_________________________________________________________________\n",
      "block2_conv1 (Conv2D)        (None, 75, 75, 128)       73856     \n",
      "_________________________________________________________________\n",
      "block2_conv2 (Conv2D)        (None, 75, 75, 128)       147584    \n",
      "_________________________________________________________________\n",
      "block2_pool (MaxPooling2D)   (None, 37, 37, 128)       0         \n",
      "_________________________________________________________________\n",
      "block3_conv1 (Conv2D)        (None, 37, 37, 256)       295168    \n",
      "_________________________________________________________________\n",
      "block3_conv2 (Conv2D)        (None, 37, 37, 256)       590080    \n",
      "_________________________________________________________________\n",
      "block3_conv3 (Conv2D)        (None, 37, 37, 256)       590080    \n",
      "_________________________________________________________________\n",
      "block3_pool (MaxPooling2D)   (None, 18, 18, 256)       0         \n",
      "_________________________________________________________________\n",
      "block4_conv1 (Conv2D)        (None, 18, 18, 512)       1180160   \n",
      "_________________________________________________________________\n",
      "block4_conv2 (Conv2D)        (None, 18, 18, 512)       2359808   \n",
      "_________________________________________________________________\n",
      "block4_conv3 (Conv2D)        (None, 18, 18, 512)       2359808   \n",
      "_________________________________________________________________\n",
      "block4_pool (MaxPooling2D)   (None, 9, 9, 512)         0         \n",
      "_________________________________________________________________\n",
      "block5_conv1 (Conv2D)        (None, 9, 9, 512)         2359808   \n",
      "_________________________________________________________________\n",
      "block5_conv2 (Conv2D)        (None, 9, 9, 512)         2359808   \n",
      "_________________________________________________________________\n",
      "block5_conv3 (Conv2D)        (None, 9, 9, 512)         2359808   \n",
      "_________________________________________________________________\n",
      "block5_pool (MaxPooling2D)   (None, 4, 4, 512)         0         \n",
      "=================================================================\n",
      "Total params: 14,714,688\n",
      "Trainable params: 14,714,688\n",
      "Non-trainable params: 0\n",
      "_________________________________________________________________\n"
     ]
    }
   ],
   "source": [
    "conv_base.summary()"
   ]
  },
  {
   "cell_type": "code",
   "execution_count": 55,
   "id": "2175fa6b",
   "metadata": {},
   "outputs": [],
   "source": [
    "model=models.Sequential()\n",
    "model.add(conv_base)\n",
    "model.add(layers.Flatten())\n",
    "model.add(layers.Dense(256, activation='relu'))\n",
    "model.add(layers.Dense(1, activation='sigmoid'))"
   ]
  },
  {
   "cell_type": "code",
   "execution_count": 56,
   "id": "56f327c6",
   "metadata": {},
   "outputs": [
    {
     "name": "stderr",
     "output_type": "stream",
     "text": [
      "C:\\Users\\acer\\anaconda3\\lib\\site-packages\\tensorflow\\python\\keras\\optimizer_v2\\optimizer_v2.py:374: UserWarning: The `lr` argument is deprecated, use `learning_rate` instead.\n",
      "  warnings.warn(\n"
     ]
    }
   ],
   "source": [
    "model.compile(loss='categorical_crossentropy',optimizer=optimizers.RMSprop(lr=2e-5), metrics=['accuracy'])"
   ]
  },
  {
   "cell_type": "code",
   "execution_count": 60,
   "id": "c8f85021",
   "metadata": {},
   "outputs": [],
   "source": [
    "callback_cb=keras.callbacks.ModelCheckpoint('CNN_Project_Model-{epoch:02d}')"
   ]
  },
  {
   "cell_type": "code",
   "execution_count": 63,
   "id": "e2b636de",
   "metadata": {},
   "outputs": [
    {
     "name": "stderr",
     "output_type": "stream",
     "text": [
      "C:\\Users\\acer\\anaconda3\\lib\\site-packages\\tensorflow\\python\\keras\\engine\\training.py:1940: UserWarning: `Model.fit_generator` is deprecated and will be removed in a future version. Please use `Model.fit`, which supports generators.\n",
      "  warnings.warn('`Model.fit_generator` is deprecated and '\n"
     ]
    },
    {
     "name": "stdout",
     "output_type": "stream",
     "text": [
      "Epoch 1/30\n",
      "62/62 [==============================] - 639s 10s/step - loss: 0.2918 - accuracy: 0.8765 - val_loss: 0.2008 - val_accuracy: 0.9234\n",
      "INFO:tensorflow:Assets written to: CNN_Project_Model-01\\assets\n",
      "Epoch 2/30\n",
      "62/62 [==============================] - 632s 10s/step - loss: 0.2169 - accuracy: 0.9090 - val_loss: 0.1408 - val_accuracy: 0.9446\n",
      "INFO:tensorflow:Assets written to: CNN_Project_Model-02\\assets\n",
      "Epoch 3/30\n",
      "62/62 [==============================] - 632s 10s/step - loss: 0.1964 - accuracy: 0.9172 - val_loss: 0.0983 - val_accuracy: 0.9637\n",
      "INFO:tensorflow:Assets written to: CNN_Project_Model-03\\assets\n",
      "Epoch 4/30\n",
      "62/62 [==============================] - 633s 10s/step - loss: 0.1725 - accuracy: 0.9273 - val_loss: 0.0839 - val_accuracy: 0.9627\n",
      "INFO:tensorflow:Assets written to: CNN_Project_Model-04\\assets\n",
      "Epoch 5/30\n",
      "62/62 [==============================] - 624s 10s/step - loss: 0.1479 - accuracy: 0.9426 - val_loss: 0.1280 - val_accuracy: 0.9536\n",
      "INFO:tensorflow:Assets written to: CNN_Project_Model-05\\assets\n",
      "Epoch 6/30\n",
      "62/62 [==============================] - 3629s 59s/step - loss: 0.1384 - accuracy: 0.9395 - val_loss: 0.1099 - val_accuracy: 0.9567\n",
      "INFO:tensorflow:Assets written to: CNN_Project_Model-06\\assets\n",
      "Epoch 7/30\n",
      "62/62 [==============================] - 639s 10s/step - loss: 0.1253 - accuracy: 0.9527 - val_loss: 0.0861 - val_accuracy: 0.9677\n",
      "INFO:tensorflow:Assets written to: CNN_Project_Model-07\\assets\n",
      "Epoch 8/30\n",
      "62/62 [==============================] - 27082s 444s/step - loss: 0.1196 - accuracy: 0.9563 - val_loss: 0.0748 - val_accuracy: 0.9738\n",
      "INFO:tensorflow:Assets written to: CNN_Project_Model-08\\assets\n",
      "Epoch 9/30\n",
      "62/62 [==============================] - 661s 11s/step - loss: 0.0923 - accuracy: 0.9675 - val_loss: 0.1750 - val_accuracy: 0.9375\n",
      "INFO:tensorflow:Assets written to: CNN_Project_Model-09\\assets\n",
      "Epoch 10/30\n",
      "62/62 [==============================] - 651s 11s/step - loss: 0.0890 - accuracy: 0.9654 - val_loss: 0.0854 - val_accuracy: 0.9708\n",
      "INFO:tensorflow:Assets written to: CNN_Project_Model-10\\assets\n",
      "Epoch 11/30\n",
      "62/62 [==============================] - 651s 11s/step - loss: 0.0650 - accuracy: 0.9776 - val_loss: 0.0648 - val_accuracy: 0.9748\n",
      "INFO:tensorflow:Assets written to: CNN_Project_Model-11\\assets\n",
      "Epoch 12/30\n",
      "62/62 [==============================] - 652s 11s/step - loss: 0.0835 - accuracy: 0.9715 - val_loss: 0.0962 - val_accuracy: 0.9677\n",
      "INFO:tensorflow:Assets written to: CNN_Project_Model-12\\assets\n",
      "Epoch 13/30\n",
      "62/62 [==============================] - 1172s 19s/step - loss: 0.0701 - accuracy: 0.9726 - val_loss: 0.1357 - val_accuracy: 0.9516\n",
      "INFO:tensorflow:Assets written to: CNN_Project_Model-13\\assets\n",
      "Epoch 14/30\n",
      "62/62 [==============================] - 912s 15s/step - loss: 0.0615 - accuracy: 0.9766 - val_loss: 0.0779 - val_accuracy: 0.9738\n",
      "INFO:tensorflow:Assets written to: CNN_Project_Model-14\\assets\n",
      "Epoch 15/30\n",
      "62/62 [==============================] - 657s 11s/step - loss: 0.0727 - accuracy: 0.9726 - val_loss: 0.0777 - val_accuracy: 0.9728\n",
      "INFO:tensorflow:Assets written to: CNN_Project_Model-15\\assets\n",
      "Epoch 16/30\n",
      "62/62 [==============================] - 648s 10s/step - loss: 0.0536 - accuracy: 0.9782 - val_loss: 0.3205 - val_accuracy: 0.9264\n",
      "INFO:tensorflow:Assets written to: CNN_Project_Model-16\\assets\n",
      "Epoch 17/30\n",
      "62/62 [==============================] - 667s 11s/step - loss: 0.0536 - accuracy: 0.9822 - val_loss: 0.0767 - val_accuracy: 0.9758\n",
      "INFO:tensorflow:Assets written to: CNN_Project_Model-17\\assets\n",
      "Epoch 18/30\n",
      "62/62 [==============================] - 926s 15s/step - loss: 0.0571 - accuracy: 0.9792 - val_loss: 0.0767 - val_accuracy: 0.9677\n",
      "INFO:tensorflow:Assets written to: CNN_Project_Model-18\\assets\n",
      "Epoch 19/30\n",
      "62/62 [==============================] - 632s 10s/step - loss: 0.0600 - accuracy: 0.9797 - val_loss: 0.1189 - val_accuracy: 0.9677\n",
      "INFO:tensorflow:Assets written to: CNN_Project_Model-19\\assets\n",
      "Epoch 20/30\n",
      "62/62 [==============================] - 629s 10s/step - loss: 0.0511 - accuracy: 0.9797 - val_loss: 0.1023 - val_accuracy: 0.9627\n",
      "INFO:tensorflow:Assets written to: CNN_Project_Model-20\\assets\n",
      "Epoch 21/30\n",
      "62/62 [==============================] - 1065s 17s/step - loss: 0.0487 - accuracy: 0.9807 - val_loss: 0.0931 - val_accuracy: 0.9708\n",
      "INFO:tensorflow:Assets written to: CNN_Project_Model-21\\assets\n",
      "Epoch 22/30\n",
      "62/62 [==============================] - 2114s 35s/step - loss: 0.0377 - accuracy: 0.9883 - val_loss: 0.1006 - val_accuracy: 0.9698\n",
      "INFO:tensorflow:Assets written to: CNN_Project_Model-22\\assets\n",
      "Epoch 23/30\n",
      "62/62 [==============================] - 670s 11s/step - loss: 0.0353 - accuracy: 0.9863 - val_loss: 0.1218 - val_accuracy: 0.9677\n",
      "INFO:tensorflow:Assets written to: CNN_Project_Model-23\\assets\n",
      "Epoch 24/30\n",
      "62/62 [==============================] - 667s 11s/step - loss: 0.0405 - accuracy: 0.9842 - val_loss: 0.1380 - val_accuracy: 0.9617\n",
      "INFO:tensorflow:Assets written to: CNN_Project_Model-24\\assets\n",
      "Epoch 25/30\n",
      "62/62 [==============================] - 665s 11s/step - loss: 0.0374 - accuracy: 0.9898 - val_loss: 0.1081 - val_accuracy: 0.9718\n",
      "INFO:tensorflow:Assets written to: CNN_Project_Model-25\\assets\n",
      "Epoch 26/30\n",
      "62/62 [==============================] - 825s 13s/step - loss: 0.0483 - accuracy: 0.9853 - val_loss: 0.1133 - val_accuracy: 0.9657\n",
      "INFO:tensorflow:Assets written to: CNN_Project_Model-26\\assets\n",
      "Epoch 27/30\n",
      "62/62 [==============================] - 2159s 35s/step - loss: 0.0333 - accuracy: 0.9878 - val_loss: 0.0867 - val_accuracy: 0.9778\n",
      "INFO:tensorflow:Assets written to: CNN_Project_Model-27\\assets\n",
      "Epoch 28/30\n",
      "62/62 [==============================] - 717s 12s/step - loss: 0.0435 - accuracy: 0.9868 - val_loss: 0.1001 - val_accuracy: 0.9688\n",
      "INFO:tensorflow:Assets written to: CNN_Project_Model-28\\assets\n",
      "Epoch 29/30\n",
      "62/62 [==============================] - 761s 12s/step - loss: 0.0235 - accuracy: 0.9924 - val_loss: 0.4398 - val_accuracy: 0.9183\n",
      "INFO:tensorflow:Assets written to: CNN_Project_Model-29\\assets\n",
      "Epoch 30/30\n",
      "62/62 [==============================] - 673s 11s/step - loss: 0.0329 - accuracy: 0.9893 - val_loss: 0.1198 - val_accuracy: 0.9637\n",
      "INFO:tensorflow:Assets written to: CNN_Project_Model-30\\assets\n"
     ]
    }
   ],
   "source": [
    " model_tp=model.fit_generator(train_generator, steps_per_epoch=62,epochs=30,validation_data=valid_generator,validation_steps=31,callbacks=[callback_cb])"
   ]
  },
  {
   "cell_type": "code",
   "execution_count": 64,
   "id": "2770010b",
   "metadata": {},
   "outputs": [
    {
     "data": {
      "image/png": "[encoded data removed]",
      "text/plain": [
       "<Figure size 576x576 with 1 Axes>"
      ]
     },
     "metadata": {
      "needs_background": "light"
     },
     "output_type": "display_data"
    }
   ],
   "source": [
    "pd.DataFrame(model_tp.history).plot(figsize=(8,8))\n",
    "plt.grid(True)"
   ]
  },
  {
   "cell_type": "code",
   "execution_count": 65,
   "id": "e5b3d2fc",
   "metadata": {},
   "outputs": [],
   "source": [
    "df=pd.DataFrame(model_tp.history)"
   ]
  },
  {
   "cell_type": "code",
   "execution_count": 66,
   "id": "0145fdee",
   "metadata": {},
   "outputs": [
    {
     "data": {
      "text/html": [
       "<div>\n",
       "<style scoped>\n",
       "    .dataframe tbody tr th:only-of-type {\n",
       "        vertical-align: middle;\n",
       "    }\n",
       "\n",
       "    .dataframe tbody tr th {\n",
       "        vertical-align: top;\n",
       "    }\n",
       "\n",
       "    .dataframe thead th {\n",
       "        text-align: right;\n",
       "    }\n",
       "</style>\n",
       "<table border=\"1\" class=\"dataframe\">\n",
       "  <thead>\n",
       "    <tr style=\"text-align: right;\">\n",
       "      <th></th>\n",
       "      <th>loss</th>\n",
       "      <th>accuracy</th>\n",
       "      <th>val_loss</th>\n",
       "      <th>val_accuracy</th>\n",
       "    </tr>\n",
       "  </thead>\n",
       "  <tbody>\n",
       "    <tr>\n",
       "      <th>0</th>\n",
       "      <td>0.291761</td>\n",
       "      <td>0.876524</td>\n",
       "      <td>0.200758</td>\n",
       "      <td>0.923387</td>\n",
       "    </tr>\n",
       "    <tr>\n",
       "      <th>1</th>\n",
       "      <td>0.216941</td>\n",
       "      <td>0.909045</td>\n",
       "      <td>0.140814</td>\n",
       "      <td>0.944556</td>\n",
       "    </tr>\n",
       "    <tr>\n",
       "      <th>2</th>\n",
       "      <td>0.196427</td>\n",
       "      <td>0.917175</td>\n",
       "      <td>0.098279</td>\n",
       "      <td>0.963710</td>\n",
       "    </tr>\n",
       "    <tr>\n",
       "      <th>3</th>\n",
       "      <td>0.172481</td>\n",
       "      <td>0.927337</td>\n",
       "      <td>0.083897</td>\n",
       "      <td>0.962702</td>\n",
       "    </tr>\n",
       "    <tr>\n",
       "      <th>4</th>\n",
       "      <td>0.147868</td>\n",
       "      <td>0.942581</td>\n",
       "      <td>0.128042</td>\n",
       "      <td>0.953629</td>\n",
       "    </tr>\n",
       "    <tr>\n",
       "      <th>5</th>\n",
       "      <td>0.138419</td>\n",
       "      <td>0.939533</td>\n",
       "      <td>0.109930</td>\n",
       "      <td>0.956653</td>\n",
       "    </tr>\n",
       "    <tr>\n",
       "      <th>6</th>\n",
       "      <td>0.125295</td>\n",
       "      <td>0.952744</td>\n",
       "      <td>0.086134</td>\n",
       "      <td>0.967742</td>\n",
       "    </tr>\n",
       "    <tr>\n",
       "      <th>7</th>\n",
       "      <td>0.119611</td>\n",
       "      <td>0.956301</td>\n",
       "      <td>0.074812</td>\n",
       "      <td>0.973790</td>\n",
       "    </tr>\n",
       "    <tr>\n",
       "      <th>8</th>\n",
       "      <td>0.092274</td>\n",
       "      <td>0.967480</td>\n",
       "      <td>0.175004</td>\n",
       "      <td>0.937500</td>\n",
       "    </tr>\n",
       "    <tr>\n",
       "      <th>9</th>\n",
       "      <td>0.089015</td>\n",
       "      <td>0.965447</td>\n",
       "      <td>0.085364</td>\n",
       "      <td>0.970766</td>\n",
       "    </tr>\n",
       "    <tr>\n",
       "      <th>10</th>\n",
       "      <td>0.064993</td>\n",
       "      <td>0.977642</td>\n",
       "      <td>0.064793</td>\n",
       "      <td>0.974798</td>\n",
       "    </tr>\n",
       "    <tr>\n",
       "      <th>11</th>\n",
       "      <td>0.083522</td>\n",
       "      <td>0.971545</td>\n",
       "      <td>0.096189</td>\n",
       "      <td>0.967742</td>\n",
       "    </tr>\n",
       "    <tr>\n",
       "      <th>12</th>\n",
       "      <td>0.070098</td>\n",
       "      <td>0.972561</td>\n",
       "      <td>0.135684</td>\n",
       "      <td>0.951613</td>\n",
       "    </tr>\n",
       "    <tr>\n",
       "      <th>13</th>\n",
       "      <td>0.061460</td>\n",
       "      <td>0.976626</td>\n",
       "      <td>0.077908</td>\n",
       "      <td>0.973790</td>\n",
       "    </tr>\n",
       "    <tr>\n",
       "      <th>14</th>\n",
       "      <td>0.072651</td>\n",
       "      <td>0.972561</td>\n",
       "      <td>0.077718</td>\n",
       "      <td>0.972782</td>\n",
       "    </tr>\n",
       "    <tr>\n",
       "      <th>15</th>\n",
       "      <td>0.053573</td>\n",
       "      <td>0.978150</td>\n",
       "      <td>0.320457</td>\n",
       "      <td>0.926411</td>\n",
       "    </tr>\n",
       "    <tr>\n",
       "      <th>16</th>\n",
       "      <td>0.053631</td>\n",
       "      <td>0.982215</td>\n",
       "      <td>0.076683</td>\n",
       "      <td>0.975806</td>\n",
       "    </tr>\n",
       "    <tr>\n",
       "      <th>17</th>\n",
       "      <td>0.057126</td>\n",
       "      <td>0.979167</td>\n",
       "      <td>0.076686</td>\n",
       "      <td>0.967742</td>\n",
       "    </tr>\n",
       "    <tr>\n",
       "      <th>18</th>\n",
       "      <td>0.060014</td>\n",
       "      <td>0.979675</td>\n",
       "      <td>0.118930</td>\n",
       "      <td>0.967742</td>\n",
       "    </tr>\n",
       "    <tr>\n",
       "      <th>19</th>\n",
       "      <td>0.051101</td>\n",
       "      <td>0.979675</td>\n",
       "      <td>0.102255</td>\n",
       "      <td>0.962702</td>\n",
       "    </tr>\n",
       "    <tr>\n",
       "      <th>20</th>\n",
       "      <td>0.048699</td>\n",
       "      <td>0.980691</td>\n",
       "      <td>0.093058</td>\n",
       "      <td>0.970766</td>\n",
       "    </tr>\n",
       "    <tr>\n",
       "      <th>21</th>\n",
       "      <td>0.037697</td>\n",
       "      <td>0.988313</td>\n",
       "      <td>0.100574</td>\n",
       "      <td>0.969758</td>\n",
       "    </tr>\n",
       "    <tr>\n",
       "      <th>22</th>\n",
       "      <td>0.035329</td>\n",
       "      <td>0.986281</td>\n",
       "      <td>0.121807</td>\n",
       "      <td>0.967742</td>\n",
       "    </tr>\n",
       "    <tr>\n",
       "      <th>23</th>\n",
       "      <td>0.040462</td>\n",
       "      <td>0.984248</td>\n",
       "      <td>0.138013</td>\n",
       "      <td>0.961694</td>\n",
       "    </tr>\n",
       "    <tr>\n",
       "      <th>24</th>\n",
       "      <td>0.037383</td>\n",
       "      <td>0.989837</td>\n",
       "      <td>0.108131</td>\n",
       "      <td>0.971774</td>\n",
       "    </tr>\n",
       "    <tr>\n",
       "      <th>25</th>\n",
       "      <td>0.048302</td>\n",
       "      <td>0.985264</td>\n",
       "      <td>0.113262</td>\n",
       "      <td>0.965726</td>\n",
       "    </tr>\n",
       "    <tr>\n",
       "      <th>26</th>\n",
       "      <td>0.033257</td>\n",
       "      <td>0.987805</td>\n",
       "      <td>0.086726</td>\n",
       "      <td>0.977823</td>\n",
       "    </tr>\n",
       "    <tr>\n",
       "      <th>27</th>\n",
       "      <td>0.043452</td>\n",
       "      <td>0.986789</td>\n",
       "      <td>0.100067</td>\n",
       "      <td>0.968750</td>\n",
       "    </tr>\n",
       "    <tr>\n",
       "      <th>28</th>\n",
       "      <td>0.023544</td>\n",
       "      <td>0.992378</td>\n",
       "      <td>0.439763</td>\n",
       "      <td>0.918347</td>\n",
       "    </tr>\n",
       "    <tr>\n",
       "      <th>29</th>\n",
       "      <td>0.032862</td>\n",
       "      <td>0.989329</td>\n",
       "      <td>0.119760</td>\n",
       "      <td>0.963710</td>\n",
       "    </tr>\n",
       "  </tbody>\n",
       "</table>\n",
       "</div>"
      ],
      "text/plain": [
       "        loss  accuracy  val_loss  val_accuracy\n",
       "0   0.291761  0.876524  0.200758      0.923387\n",
       "1   0.216941  0.909045  0.140814      0.944556\n",
       "2   0.196427  0.917175  0.098279      0.963710\n",
       "3   0.172481  0.927337  0.083897      0.962702\n",
       "4   0.147868  0.942581  0.128042      0.953629\n",
       "5   0.138419  0.939533  0.109930      0.956653\n",
       "6   0.125295  0.952744  0.086134      0.967742\n",
       "7   0.119611  0.956301  0.074812      0.973790\n",
       "8   0.092274  0.967480  0.175004      0.937500\n",
       "9   0.089015  0.965447  0.085364      0.970766\n",
       "10  0.064993  0.977642  0.064793      0.974798\n",
       "11  0.083522  0.971545  0.096189      0.967742\n",
       "12  0.070098  0.972561  0.135684      0.951613\n",
       "13  0.061460  0.976626  0.077908      0.973790\n",
       "14  0.072651  0.972561  0.077718      0.972782\n",
       "15  0.053573  0.978150  0.320457      0.926411\n",
       "16  0.053631  0.982215  0.076683      0.975806\n",
       "17  0.057126  0.979167  0.076686      0.967742\n",
       "18  0.060014  0.979675  0.118930      0.967742\n",
       "19  0.051101  0.979675  0.102255      0.962702\n",
       "20  0.048699  0.980691  0.093058      0.970766\n",
       "21  0.037697  0.988313  0.100574      0.969758\n",
       "22  0.035329  0.986281  0.121807      0.967742\n",
       "23  0.040462  0.984248  0.138013      0.961694\n",
       "24  0.037383  0.989837  0.108131      0.971774\n",
       "25  0.048302  0.985264  0.113262      0.965726\n",
       "26  0.033257  0.987805  0.086726      0.977823\n",
       "27  0.043452  0.986789  0.100067      0.968750\n",
       "28  0.023544  0.992378  0.439763      0.918347\n",
       "29  0.032862  0.989329  0.119760      0.963710"
      ]
     },
     "execution_count": 66,
     "metadata": {},
     "output_type": "execute_result"
    }
   ],
   "source": [
    "df"
   ]
  },
  {
   "cell_type": "code",
   "execution_count": 68,
   "id": "eeb1d12d",
   "metadata": {},
   "outputs": [
    {
     "data": {
      "text/plain": [
       "26"
      ]
     },
     "execution_count": 68,
     "metadata": {},
     "output_type": "execute_result"
    }
   ],
   "source": [
    "df['val_accuracy'].idxmax()"
   ]
  },
  {
   "cell_type": "code",
   "execution_count": 69,
   "id": "7d89f49b",
   "metadata": {},
   "outputs": [
    {
     "name": "stdout",
     "output_type": "stream",
     "text": [
      "Found 1000 images belonging to 2 classes.\n"
     ]
    }
   ],
   "source": [
    "test_generator = test_datagen.flow_from_directory(\n",
    "        test_dir,\n",
    "        target_size=(150, 150),\n",
    "        batch_size=20,\n",
    "        class_mode='binary')"
   ]
  },
  {
   "cell_type": "code",
   "execution_count": 70,
   "id": "deb1545c",
   "metadata": {},
   "outputs": [
    {
     "name": "stderr",
     "output_type": "stream",
     "text": [
      "C:\\Users\\acer\\anaconda3\\lib\\site-packages\\tensorflow\\python\\keras\\engine\\training.py:1973: UserWarning: `Model.evaluate_generator` is deprecated and will be removed in a future version. Please use `Model.evaluate`, which supports generators.\n",
      "  warnings.warn('`Model.evaluate_generator` is deprecated and '\n"
     ]
    },
    {
     "data": {
      "text/plain": [
       "[0.13494282960891724, 0.9660000205039978]"
      ]
     },
     "execution_count": 70,
     "metadata": {},
     "output_type": "execute_result"
    }
   ],
   "source": [
    "model.evaluate_generator(test_generator, steps=50)"
   ]
  },
  {
   "cell_type": "code",
   "execution_count": null,
   "id": "62109b7a",
   "metadata": {},
   "outputs": [],
   "source": []
  }
 ],
 "metadata": {
  "kernelspec": {
   "display_name": "Python 3",
   "language": "python",
   "name": "python3"
  },
  "language_info": {
   "codemirror_mode": {
    "name": "ipython",
    "version": 3
   },
   "file_extension": ".py",
   "mimetype": "text/x-python",
   "name": "python",
   "nbconvert_exporter": "python",
   "pygments_lexer": "ipython3",
   "version": "3.8.8"
  }
 },
 "nbformat": 4,
 "nbformat_minor": 5
}
